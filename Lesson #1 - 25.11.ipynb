{
  "nbformat": 4,
  "nbformat_minor": 0,
  "metadata": {
    "colab": {
      "provenance": [],
      "authorship_tag": "ABX9TyNf3KtQrd/dWiyKVbEVDos4",
      "include_colab_link": true
    },
    "kernelspec": {
      "name": "python3",
      "display_name": "Python 3"
    },
    "language_info": {
      "name": "python"
    }
  },
  "cells": [
    {
      "cell_type": "markdown",
      "metadata": {
        "id": "view-in-github",
        "colab_type": "text"
      },
      "source": [
        "<a href=\"https://colab.research.google.com/github/Duvi-D/Lessons---Data-Engineering-Course/blob/main/Lesson%20%231%20-%2025.11.ipynb\" target=\"_parent\"><img src=\"https://colab.research.google.com/assets/colab-badge.svg\" alt=\"Open In Colab\"/></a>"
      ]
    },
    {
      "cell_type": "markdown",
      "source": [
        "# The 1st class 25.11"
      ],
      "metadata": {
        "id": "lt1QJRV6cf03"
      }
    },
    {
      "cell_type": "code",
      "source": [
        "num = 3 + 5\n",
        "num"
      ],
      "metadata": {
        "id": "_1dV8chQcg2f",
        "outputId": "b705c260-f6f6-463e-df23-619e8ba85e82",
        "colab": {
          "base_uri": "https://localhost:8080/"
        }
      },
      "execution_count": 4,
      "outputs": [
        {
          "output_type": "execute_result",
          "data": {
            "text/plain": [
              "8"
            ]
          },
          "metadata": {},
          "execution_count": 4
        }
      ]
    }
  ]
}